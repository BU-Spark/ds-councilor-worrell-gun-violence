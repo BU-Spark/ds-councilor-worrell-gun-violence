{
 "cells": [
  {
   "attachments": {},
   "cell_type": "markdown",
   "metadata": {},
   "source": [
    "### Spring 2023 CS506 Data Science\n",
    "\n",
    "## Gun Violence - Team 1\n",
    "\n",
    "Team Members: Shaunak Joshi, Hemant Singh, Marcel Aubry, Angela Castronuovo\n",
    "\n",
    "#### Deliverable 1 - Analysis\n",
    "Sufficient data should have been collected to perform a preliminary analysis of the data and attempt to answer one question relevant to your project proposal which you will submit as a pull request.\n",
    "\n",
    "If data has already been collected for your project you must answer two questions.\n",
    "\n",
    "Collect and pre-process a preliminary batch of data\n",
    "Perform a preliminary analysis of the data\n",
    "Answer 1-2 key questions\n",
    "Submit all of the following information (code, notebooks, answers to questions) as a PR to your team’s branch on github. (Add your PM and TE as reviewers!)\n",
    "Submit the Weekly Scrum report to the gradescope and upload to google drive.\n",
    "Make sure to identify which team member is doing which tasks on the scrum report\n",
    "\n",
    "#### Part 1: Analysis & Tasks\n",
    "1. Establish what violence looks like in District 4:\n",
    "Use the Shapefile and sources in Police Districts (b) & Police Records of Violence/Firearm Activity (c) & Police reports (d)\n",
    "Comparison to the rest of the city\n",
    "2. Establish what police presence looks like in District 4:\n",
    "Use the Shapefile and sources in Police Presence (e) to map out where officers are in District 4\n",
    "Comparison to the rest of the city\n",
    "3. Discipline records from schools for school discipline\n",
    "\n",
    "#### Part 1: Questions\n",
    "1. What are the drivers of violence in District 4? How does this compare to the rest of the city?\n",
    "2. What is the rate of gun violence in District 4? How does this compare to the rest of the city?\n",
    "3. Are there patterns of violence in terms of location in District 4? How does this compare to the rest of the city?\n",
    "4. Are there patterns in terms of type of violence in District 4? How does this compare to the rest of the city?\n",
    "\n"
   ]
  }
 ],
 "metadata": {
  "kernelspec": {
   "display_name": "base",
   "language": "python",
   "name": "python3"
  },
  "language_info": {
   "name": "python",
   "version": "3.9.13 (main, Aug 25 2022, 23:51:50) [MSC v.1916 64 bit (AMD64)]"
  },
  "orig_nbformat": 4,
  "vscode": {
   "interpreter": {
    "hash": "bce320103a4f9599bf42cb45744b1f3acee8930c6f7dcdff248089a2e65863cd"
   }
  }
 },
 "nbformat": 4,
 "nbformat_minor": 2
}
